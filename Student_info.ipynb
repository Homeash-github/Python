{
  "nbformat": 4,
  "nbformat_minor": 0,
  "metadata": {
    "colab": {
      "provenance": [],
      "authorship_tag": "ABX9TyMEc2vW/ZY+uX+LRf5spJ7c",
      "include_colab_link": true
    },
    "kernelspec": {
      "name": "python3",
      "display_name": "Python 3"
    },
    "language_info": {
      "name": "python"
    }
  },
  "cells": [
    {
      "cell_type": "markdown",
      "metadata": {
        "id": "view-in-github",
        "colab_type": "text"
      },
      "source": [
        "<a href=\"https://colab.research.google.com/github/Homeash-github/Python/blob/main/Student_info.ipynb\" target=\"_parent\"><img src=\"https://colab.research.google.com/assets/colab-badge.svg\" alt=\"Open In Colab\"/></a>"
      ]
    },
    {
      "cell_type": "code",
      "execution_count": null,
      "metadata": {
        "colab": {
          "base_uri": "https://localhost:8080/"
        },
        "id": "W6C0mU1hlry4",
        "outputId": "a86b5521-0b32-4e2a-8bc1-70345c363888"
      },
      "outputs": [
        {
          "output_type": "stream",
          "name": "stdout",
          "text": [
            "0 shanmathi.j.2021.cce@ritchennai.edu.in, shanma0707@gmail.com\n",
            "1 deepasribhawani.j.2021.cce@ritchennai.edu.in\n",
            "2 sanjaikumar.p.2021.cce@ritchennai.edu.in\n",
            "3 manoj.v.2021.cce@ritchennai.edu.in\n",
            "4 jagan.m.2021.cce@ritchennai.edu.in\n",
            "5 velmurugan.v.2021.cce@ritchennai.edu.in \n",
            "6 aafiyafarheen.e.2021.cce@ritchennai.edu.in\n",
            "7 srikanth.s.2021.cce@ritchennai.edu.in\n",
            "8 kaviya.r.2021.cce@ritchennai.edu.in\n",
            "9 kaviraj.g.m.2021.cce@ritchennai.edu.in\n",
            "10 iswarraj.s.2021.cce@ritchennai.edu.in\n",
            "11 sarweshwaran.a.2021.cce@ritchennai.edu.in\n",
            "12 mathiyarasu.m.2021.cce@ritchennai.edu.in \n",
            "13 madhavan.c.2021.cce@ritchennai.edu.in\n",
            "14 kanimozhi.j.2021.cce@ritchennai.edu.in\n",
            "15 kowshik.b.2021.cce@ritchennai.edu.in\n",
            "16 priyanka.s.2021.cce@ritchennai.edu.in\n",
            "17 bruhathi.s.2021.cce@ritchennai.edu.in\n",
            "18 mohamadyousuf.2021.cce@ritchennai.edu.in\n",
            "19 dhayaramanan.r.2021.cce@ritchennai.edu.in\n",
            "20 homeashpranav.v.2021.cce@ritchennai.edu.in\n",
            "21 janani.g.2021.cce@ritchennai.edu.in\n",
            "22 kalaivani.m.2021.cce@ritchennai.edu.in\n",
            "23 balaji.s.2021.cce@ritchennai.edu.in\n",
            "24 shiva.k.2021.cce@ritchennai.edu.in\n",
            "Total no. of students in each department\n",
            "CSE: 78 ECE: 29 AIDS: 45 CCE: 25 Mech: 0 Other:  25\n"
          ]
        },
        {
          "output_type": "stream",
          "name": "stderr",
          "text": [
            "<ipython-input-13-5e0c347bb4d7>:15: SettingWithCopyWarning: \n",
            "A value is trying to be set on a copy of a slice from a DataFrame\n",
            "\n",
            "See the caveats in the documentation: https://pandas.pydata.org/pandas-docs/stable/user_guide/indexing.html#returning-a-view-versus-a-copy\n",
            "  c2[k]=c2[k].lower()\n"
          ]
        }
      ],
      "source": [
        "import numpy as np\n",
        "import pandas as pd\n",
        "import csv\n",
        "\n",
        "f=pd.read_csv('/content/STUD.csv')\n",
        "# with open(\"/content/STUD.csv\",\"r\") as f:\n",
        "#     reader = csv.reader(f, delimiter=',')\n",
        "    # for row in reader:\n",
        "    #     c1.append(row[0])\n",
        "    #     c2.append(row[1])\n",
        "    #     c3.append(row[2])\n",
        "c1=f[\"Candidate Name\"]\n",
        "c2=f[\"Email ID\"]\n",
        "for k in range(len(c2)):\n",
        "  c2[k]=c2[k].lower()\n",
        "cce=0\n",
        "aids=0\n",
        "cse=0\n",
        "ece=0\n",
        "mech=0\n",
        "o1=0\n",
        "for i in c2:\n",
        "  if (\".mech\" in i):\n",
        "    mech+=1\n",
        "  elif (\".cce\" in i):\n",
        "    print(cce,i)\n",
        "    cce+=1\n",
        "  elif (\".cse\" in i):\n",
        "    cse+=1\n",
        "  elif (\".ad\" in i):\n",
        "    aids+=1\n",
        "  elif (\".ece\" in i):\n",
        "    ece+=1\n",
        "  else:\n",
        "    o1+=1\n",
        "print(\"Total no. of students in each department\")\n",
        "# print(c2)\n",
        "print(\"CSE:\",cse,\"ECE:\",ece,\"AIDS:\",aids,\"CCE:\",cce,\"Mech:\",mech,\"Other: \",o1)"
      ]
    }
  ]
}